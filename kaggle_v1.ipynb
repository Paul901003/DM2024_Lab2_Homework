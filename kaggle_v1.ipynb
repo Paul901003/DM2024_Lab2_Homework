{
 "cells": [
  {
   "cell_type": "code",
   "execution_count": 1,
   "metadata": {},
   "outputs": [],
   "source": [
    "import json\n",
    "import pandas as pd\n",
    "import numpy as np\n",
    "import nltk\n",
    "import matplotlib.pyplot as plt\n",
    "from collections import Counter\n",
    "\n",
    "from sklearn.feature_extraction.text import TfidfVectorizer\n",
    "from sklearn.model_selection import train_test_split\n",
    "from sklearn.preprocessing import LabelEncoder\n",
    "from sklearn.linear_model import LogisticRegression\n",
    "from sklearn.ensemble import RandomForestClassifier\n",
    "from sklearn.metrics import classification_report"
   ]
  },
  {
   "cell_type": "code",
   "execution_count": null,
   "metadata": {},
   "outputs": [],
   "source": [
    "# Read data\n",
    "# 分別使用陣列和DataFrame讀取.json檔和.csv檔。\n",
    "data = []\n",
    "with open('dm-2024-isa-5810-lab-2-homework/tweets_DM.json', 'r') as f:\n",
    "    for line in f:\n",
    "        data.append(json.loads(line))\n",
    " \n",
    "f.close()\n",
    "emotion = pd.read_csv('dm-2024-isa-5810-lab-2-homework/emotion.csv')\n",
    "data_identification = pd.read_csv('dm-2024-isa-5810-lab-2-homework/data_identification.csv')"
   ]
  },
  {
   "cell_type": "code",
   "execution_count": null,
   "metadata": {},
   "outputs": [],
   "source": [
    "# 找出train的資料\n",
    "df = pd.DataFrame(data)\n",
    "_source = df['_source'].apply(lambda x: x['tweet'])\n",
    "df = pd.DataFrame({\n",
    "    'tweet_id': _source.apply(lambda x: x['tweet_id']),\n",
    "    'hashtags': _source.apply(lambda x: x['hashtags']),\n",
    "    'text': _source.apply(lambda x: x['text']),\n",
    "})\n",
    "df = df.merge(data_identification, on='tweet_id', how='left')\n",
    "\n",
    "train_data = df[df['identification'] == 'train']"
   ]
  },
  {
   "cell_type": "code",
   "execution_count": null,
   "metadata": {},
   "outputs": [],
   "source": [
    "train_data = train_data.merge(emotion, on='tweet_id', how='left')\n",
    "train_data.drop_duplicates(subset=['text'], keep=False, inplace=True) # 去除空白值"
   ]
  },
  {
   "cell_type": "code",
   "execution_count": null,
   "metadata": {},
   "outputs": [],
   "source": [
    "train_data_sample = train_data.sample(frac=0.2) # 採樣，採樣率0.2"
   ]
  },
  {
   "cell_type": "code",
   "execution_count": 6,
   "metadata": {},
   "outputs": [
    {
     "data": {
      "text/html": [
       "<div>\n",
       "<style scoped>\n",
       "    .dataframe tbody tr th:only-of-type {\n",
       "        vertical-align: middle;\n",
       "    }\n",
       "\n",
       "    .dataframe tbody tr th {\n",
       "        vertical-align: top;\n",
       "    }\n",
       "\n",
       "    .dataframe thead th {\n",
       "        text-align: right;\n",
       "    }\n",
       "</style>\n",
       "<table border=\"1\" class=\"dataframe\">\n",
       "  <thead>\n",
       "    <tr style=\"text-align: right;\">\n",
       "      <th></th>\n",
       "      <th>tweet_id</th>\n",
       "      <th>hashtags</th>\n",
       "      <th>text</th>\n",
       "      <th>identification</th>\n",
       "      <th>emotion</th>\n",
       "    </tr>\n",
       "  </thead>\n",
       "  <tbody>\n",
       "    <tr>\n",
       "      <th>426473</th>\n",
       "      <td>0x1f3e97</td>\n",
       "      <td>[]</td>\n",
       "      <td>Seriously awesome turn out for a on the fly st...</td>\n",
       "      <td>train</td>\n",
       "      <td>joy</td>\n",
       "    </tr>\n",
       "    <tr>\n",
       "      <th>148135</th>\n",
       "      <td>0x1ed774</td>\n",
       "      <td>[]</td>\n",
       "      <td>I see god working his ways &lt;LH&gt;</td>\n",
       "      <td>train</td>\n",
       "      <td>joy</td>\n",
       "    </tr>\n",
       "    <tr>\n",
       "      <th>965640</th>\n",
       "      <td>0x32f256</td>\n",
       "      <td>[]</td>\n",
       "      <td>&lt;LH&gt; is my favourite color 😍 &lt;LH&gt; ♥</td>\n",
       "      <td>train</td>\n",
       "      <td>sadness</td>\n",
       "    </tr>\n",
       "    <tr>\n",
       "      <th>575587</th>\n",
       "      <td>0x32e980</td>\n",
       "      <td>[]</td>\n",
       "      <td>Because of your smile, you make life more beau...</td>\n",
       "      <td>train</td>\n",
       "      <td>joy</td>\n",
       "    </tr>\n",
       "    <tr>\n",
       "      <th>820293</th>\n",
       "      <td>0x226262</td>\n",
       "      <td>[DestinysConflict, preorderhardcover]</td>\n",
       "      <td>The twitching has begun. &lt;LH&gt; #DestinysConflic...</td>\n",
       "      <td>train</td>\n",
       "      <td>anticipation</td>\n",
       "    </tr>\n",
       "    <tr>\n",
       "      <th>...</th>\n",
       "      <td>...</td>\n",
       "      <td>...</td>\n",
       "      <td>...</td>\n",
       "      <td>...</td>\n",
       "      <td>...</td>\n",
       "    </tr>\n",
       "    <tr>\n",
       "      <th>477320</th>\n",
       "      <td>0x37135b</td>\n",
       "      <td>[]</td>\n",
       "      <td>Two more from Arthur Lee the magician A house ...</td>\n",
       "      <td>train</td>\n",
       "      <td>joy</td>\n",
       "    </tr>\n",
       "    <tr>\n",
       "      <th>274384</th>\n",
       "      <td>0x2de667</td>\n",
       "      <td>[]</td>\n",
       "      <td>Sometimes a good, is equally true that, if kno...</td>\n",
       "      <td>train</td>\n",
       "      <td>joy</td>\n",
       "    </tr>\n",
       "    <tr>\n",
       "      <th>544178</th>\n",
       "      <td>0x224f0c</td>\n",
       "      <td>[]</td>\n",
       "      <td>When it comes to guy bashing tons of women wil...</td>\n",
       "      <td>train</td>\n",
       "      <td>disgust</td>\n",
       "    </tr>\n",
       "    <tr>\n",
       "      <th>1417022</th>\n",
       "      <td>0x200386</td>\n",
       "      <td>[]</td>\n",
       "      <td>@TeamTrump Proverbs 16:4 The LORD works out ev...</td>\n",
       "      <td>train</td>\n",
       "      <td>anticipation</td>\n",
       "    </tr>\n",
       "    <tr>\n",
       "      <th>1397254</th>\n",
       "      <td>0x2b580f</td>\n",
       "      <td>[heart, God]</td>\n",
       "      <td>@kenziebatcho @realDonaldTrump his #heart, “Th...</td>\n",
       "      <td>train</td>\n",
       "      <td>anticipation</td>\n",
       "    </tr>\n",
       "  </tbody>\n",
       "</table>\n",
       "<p>289836 rows × 5 columns</p>\n",
       "</div>"
      ],
      "text/plain": [
       "         tweet_id                               hashtags  \\\n",
       "426473   0x1f3e97                                     []   \n",
       "148135   0x1ed774                                     []   \n",
       "965640   0x32f256                                     []   \n",
       "575587   0x32e980                                     []   \n",
       "820293   0x226262  [DestinysConflict, preorderhardcover]   \n",
       "...           ...                                    ...   \n",
       "477320   0x37135b                                     []   \n",
       "274384   0x2de667                                     []   \n",
       "544178   0x224f0c                                     []   \n",
       "1417022  0x200386                                     []   \n",
       "1397254  0x2b580f                           [heart, God]   \n",
       "\n",
       "                                                      text identification  \\\n",
       "426473   Seriously awesome turn out for a on the fly st...          train   \n",
       "148135                     I see god working his ways <LH>          train   \n",
       "965640                 <LH> is my favourite color 😍 <LH> ♥          train   \n",
       "575587   Because of your smile, you make life more beau...          train   \n",
       "820293   The twitching has begun. <LH> #DestinysConflic...          train   \n",
       "...                                                    ...            ...   \n",
       "477320   Two more from Arthur Lee the magician A house ...          train   \n",
       "274384   Sometimes a good, is equally true that, if kno...          train   \n",
       "544178   When it comes to guy bashing tons of women wil...          train   \n",
       "1417022  @TeamTrump Proverbs 16:4 The LORD works out ev...          train   \n",
       "1397254  @kenziebatcho @realDonaldTrump his #heart, “Th...          train   \n",
       "\n",
       "              emotion  \n",
       "426473            joy  \n",
       "148135            joy  \n",
       "965640        sadness  \n",
       "575587            joy  \n",
       "820293   anticipation  \n",
       "...               ...  \n",
       "477320            joy  \n",
       "274384            joy  \n",
       "544178        disgust  \n",
       "1417022  anticipation  \n",
       "1397254  anticipation  \n",
       "\n",
       "[289836 rows x 5 columns]"
      ]
     },
     "execution_count": 6,
     "metadata": {},
     "output_type": "execute_result"
    }
   ],
   "source": [
    "train_data_sample"
   ]
  },
  {
   "cell_type": "code",
   "execution_count": null,
   "metadata": {},
   "outputs": [
    {
     "data": {
      "text/plain": [
       "426473     Seriously awesome turn out for a on the fly st...\n",
       "148135                      I see god working his ways <LH> \n",
       "965640                  <LH> is my favourite color 😍 <LH> ♥ \n",
       "575587     Because of your smile, you make life more beau...\n",
       "820293     The twitching has begun. <LH> #DestinysConflic...\n",
       "                                 ...                        \n",
       "477320     Two more from Arthur Lee the magician A house ...\n",
       "274384     Sometimes a good, is equally true that, if kno...\n",
       "544178     When it comes to guy bashing tons of women wil...\n",
       "1417022    @TeamTrump Proverbs 16:4 The LORD works out ev...\n",
       "1397254    @kenziebatcho @realDonaldTrump his #heart, “Th...\n",
       "Length: 289836, dtype: object"
      ]
     },
     "execution_count": 7,
     "metadata": {},
     "output_type": "execute_result"
    }
   ],
   "source": [
    "y_train_data = train_data_sample['emotion']\n",
    "X_train_data = train_data_sample.drop(['tweet_id', 'emotion', 'identification'], axis=1)\n",
    "X_train_data = X_train_data['text'] + ' ' + X_train_data['hashtags'].apply(lambda x: ' '.join(x)) # 將hashtags和text合成\n",
    "X_train_data"
   ]
  },
  {
   "cell_type": "code",
   "execution_count": 8,
   "metadata": {},
   "outputs": [
    {
     "data": {
      "text/plain": [
       "426473              joy\n",
       "148135              joy\n",
       "965640          sadness\n",
       "575587              joy\n",
       "820293     anticipation\n",
       "               ...     \n",
       "477320              joy\n",
       "274384              joy\n",
       "544178          disgust\n",
       "1417022    anticipation\n",
       "1397254    anticipation\n",
       "Name: emotion, Length: 289836, dtype: object"
      ]
     },
     "execution_count": 8,
     "metadata": {},
     "output_type": "execute_result"
    }
   ],
   "source": [
    "y_train_data"
   ]
  },
  {
   "cell_type": "code",
   "execution_count": null,
   "metadata": {},
   "outputs": [
    {
     "name": "stdout",
     "output_type": "stream",
     "text": [
      "                                                        0\n",
      "0       Seriously awesome turn out for a on the fly st...\n",
      "1                        I see god working his ways <LH> \n",
      "2                    <LH> is my favourite color 😍 <LH> ♥ \n",
      "3       Because of your smile, you make life more beau...\n",
      "4       The twitching has begun. <LH> #DestinysConflic...\n",
      "...                                                   ...\n",
      "289831  Two more from Arthur Lee the magician A house ...\n",
      "289832  Sometimes a good, is equally true that, if kno...\n",
      "289833  When it comes to guy bashing tons of women wil...\n",
      "289834  @TeamTrump Proverbs 16:4 The LORD works out ev...\n",
      "289835  @kenziebatcho @realDonaldTrump his #heart, “Th...\n",
      "\n",
      "[289836 rows x 1 columns]\n",
      "                   0\n",
      "0                joy\n",
      "1                joy\n",
      "2            sadness\n",
      "3                joy\n",
      "4       anticipation\n",
      "...              ...\n",
      "289831           joy\n",
      "289832           joy\n",
      "289833       disgust\n",
      "289834  anticipation\n",
      "289835  anticipation\n",
      "\n",
      "[289836 rows x 1 columns]\n"
     ]
    }
   ],
   "source": [
    "filtered_X_train_data = []\n",
    "filtered_y_train_data = []\n",
    "\n",
    "for text, emotion in zip(X_train_data, y_train_data):\n",
    "    if text:  # 只保留非空值的部分\n",
    "        filtered_X_train_data.append(text)\n",
    "        filtered_y_train_data.append(emotion)\n",
    "\n",
    "print(pd.DataFrame(filtered_X_train_data))\n",
    "print(pd.DataFrame(filtered_y_train_data))\n",
    "\n",
    "X_train_data = filtered_X_train_data\n",
    "y_train_data = filtered_y_train_data"
   ]
  },
  {
   "cell_type": "code",
   "execution_count": 10,
   "metadata": {},
   "outputs": [
    {
     "name": "stdout",
     "output_type": "stream",
     "text": [
      "                   0\n",
      "0                joy\n",
      "1                joy\n",
      "2            sadness\n",
      "3                joy\n",
      "4       anticipation\n",
      "...              ...\n",
      "289831           joy\n",
      "289832           joy\n",
      "289833       disgust\n",
      "289834  anticipation\n",
      "289835  anticipation\n",
      "\n",
      "[289836 rows x 1 columns]\n"
     ]
    }
   ],
   "source": [
    "print(pd.DataFrame(y_train_data))"
   ]
  },
  {
   "cell_type": "code",
   "execution_count": null,
   "metadata": {},
   "outputs": [],
   "source": [
    "from sklearn.model_selection import train_test_split\n",
    "\n",
    "X_train, X_test, y_train, y_test = train_test_split(\n",
    "    X_train_data, y_train_data, test_size=0.2, random_state=42, stratify=y_train_data\n",
    ")\n",
    "# 將資料分成訓練和測試，比例為0,2"
   ]
  },
  {
   "cell_type": "code",
   "execution_count": null,
   "metadata": {},
   "outputs": [],
   "source": [
    "tfidf = TfidfVectorizer(max_features=5000) # 使用TFIDF處理，最大特徵取5000\n",
    "X = tfidf.fit_transform(X_train).toarray()\n",
    "X_test = tfidf.transform(X_test)"
   ]
  },
  {
   "cell_type": "code",
   "execution_count": null,
   "metadata": {},
   "outputs": [],
   "source": [
    "le = LabelEncoder() # 標記轉成數字減少資料量\n",
    "y = le.fit_transform(y_train)\n",
    "y_test = le.transform(y_test)"
   ]
  },
  {
   "cell_type": "code",
   "execution_count": null,
   "metadata": {},
   "outputs": [],
   "source": [
    "rf_model = RandomForestClassifier() #使用隨機森林分類\n",
    "model = rf_model.fit(X, y)"
   ]
  },
  {
   "cell_type": "code",
   "execution_count": null,
   "metadata": {},
   "outputs": [],
   "source": [
    "y_pred = model.predict(X_test) # 預測"
   ]
  },
  {
   "cell_type": "code",
   "execution_count": null,
   "metadata": {},
   "outputs": [
    {
     "name": "stdout",
     "output_type": "stream",
     "text": [
      "0.5178029257521392\n",
      "0.34494896223037597\n",
      "0.6594764607895148\n",
      "0.39697488469335285\n"
     ]
    }
   ],
   "source": [
    "# 查看各種指標\n",
    "from sklearn.metrics import accuracy_score, recall_score, precision_score, f1_score\n",
    "print(accuracy_score(y_test, y_pred))\n",
    "print(recall_score(y_test, y_pred, average='macro'))\n",
    "print(precision_score(y_test, y_pred, average='macro'))\n",
    "print(f1_score(y_test, y_pred, average='macro'))"
   ]
  },
  {
   "cell_type": "code",
   "execution_count": null,
   "metadata": {},
   "outputs": [
    {
     "data": {
      "text/plain": [
       "0.5178029257521392"
      ]
     },
     "execution_count": 17,
     "metadata": {},
     "output_type": "execute_result"
    }
   ],
   "source": [
    "from sklearn.metrics import accuracy_score\n",
    "accuracy_score(y_test, y_pred)"
   ]
  },
  {
   "cell_type": "code",
   "execution_count": null,
   "metadata": {},
   "outputs": [],
   "source": [
    "test_data = df[df['identification'] == 'test'] # 讀取test data\n",
    "# test_data.to_csv('dm-2024-isa-5810-lab-2-homework/test000.csv', index=False)"
   ]
  },
  {
   "cell_type": "code",
   "execution_count": null,
   "metadata": {},
   "outputs": [],
   "source": [
    "# 和訓練集一樣的前處理\n",
    "X_test_data = test_data.drop(['tweet_id', 'identification'], axis=1)\n",
    "X_test_data = X_test_data['text'] + ' ' + X_test_data['hashtags'].apply(lambda x: ' '.join(x))"
   ]
  },
  {
   "cell_type": "code",
   "execution_count": null,
   "metadata": {},
   "outputs": [],
   "source": [
    "X_test_data = tfidf.transform(X_test_data).toarray()\n",
    "y_test_pred = model.predict(X_test_data)\n",
    "y_pred_labels = le.inverse_transform(y_test_pred)\n",
    "submission = pd.DataFrame({\n",
    "    'id': test_data['tweet_id'],\n",
    "    'emotion': y_pred_labels\n",
    "})\n",
    "submission.to_csv('dm-2024-isa-5810-lab-2-homework/submission_kaggle_v1.csv', index=False)"
   ]
  },
  {
   "cell_type": "code",
   "execution_count": 21,
   "metadata": {},
   "outputs": [
    {
     "data": {
      "text/html": [
       "<div>\n",
       "<style scoped>\n",
       "    .dataframe tbody tr th:only-of-type {\n",
       "        vertical-align: middle;\n",
       "    }\n",
       "\n",
       "    .dataframe tbody tr th {\n",
       "        vertical-align: top;\n",
       "    }\n",
       "\n",
       "    .dataframe thead th {\n",
       "        text-align: right;\n",
       "    }\n",
       "</style>\n",
       "<table border=\"1\" class=\"dataframe\">\n",
       "  <thead>\n",
       "    <tr style=\"text-align: right;\">\n",
       "      <th></th>\n",
       "      <th>id</th>\n",
       "      <th>emotion</th>\n",
       "    </tr>\n",
       "  </thead>\n",
       "  <tbody>\n",
       "    <tr>\n",
       "      <th>2</th>\n",
       "      <td>0x28b412</td>\n",
       "      <td>anticipation</td>\n",
       "    </tr>\n",
       "    <tr>\n",
       "      <th>4</th>\n",
       "      <td>0x2de201</td>\n",
       "      <td>anticipation</td>\n",
       "    </tr>\n",
       "    <tr>\n",
       "      <th>9</th>\n",
       "      <td>0x218443</td>\n",
       "      <td>joy</td>\n",
       "    </tr>\n",
       "    <tr>\n",
       "      <th>30</th>\n",
       "      <td>0x2939d5</td>\n",
       "      <td>joy</td>\n",
       "    </tr>\n",
       "    <tr>\n",
       "      <th>33</th>\n",
       "      <td>0x26289a</td>\n",
       "      <td>trust</td>\n",
       "    </tr>\n",
       "    <tr>\n",
       "      <th>...</th>\n",
       "      <td>...</td>\n",
       "      <td>...</td>\n",
       "    </tr>\n",
       "    <tr>\n",
       "      <th>1867525</th>\n",
       "      <td>0x2913b4</td>\n",
       "      <td>joy</td>\n",
       "    </tr>\n",
       "    <tr>\n",
       "      <th>1867529</th>\n",
       "      <td>0x2a980e</td>\n",
       "      <td>joy</td>\n",
       "    </tr>\n",
       "    <tr>\n",
       "      <th>1867530</th>\n",
       "      <td>0x316b80</td>\n",
       "      <td>joy</td>\n",
       "    </tr>\n",
       "    <tr>\n",
       "      <th>1867531</th>\n",
       "      <td>0x29d0cb</td>\n",
       "      <td>joy</td>\n",
       "    </tr>\n",
       "    <tr>\n",
       "      <th>1867532</th>\n",
       "      <td>0x2a6a4f</td>\n",
       "      <td>joy</td>\n",
       "    </tr>\n",
       "  </tbody>\n",
       "</table>\n",
       "<p>411972 rows × 2 columns</p>\n",
       "</div>"
      ],
      "text/plain": [
       "               id       emotion\n",
       "2        0x28b412  anticipation\n",
       "4        0x2de201  anticipation\n",
       "9        0x218443           joy\n",
       "30       0x2939d5           joy\n",
       "33       0x26289a         trust\n",
       "...           ...           ...\n",
       "1867525  0x2913b4           joy\n",
       "1867529  0x2a980e           joy\n",
       "1867530  0x316b80           joy\n",
       "1867531  0x29d0cb           joy\n",
       "1867532  0x2a6a4f           joy\n",
       "\n",
       "[411972 rows x 2 columns]"
      ]
     },
     "execution_count": 21,
     "metadata": {},
     "output_type": "execute_result"
    }
   ],
   "source": [
    "submission"
   ]
  }
 ],
 "metadata": {
  "kernelspec": {
   "display_name": "Python 3",
   "language": "python",
   "name": "python3"
  },
  "language_info": {
   "codemirror_mode": {
    "name": "ipython",
    "version": 3
   },
   "file_extension": ".py",
   "mimetype": "text/x-python",
   "name": "python",
   "nbconvert_exporter": "python",
   "pygments_lexer": "ipython3",
   "version": "3.10.4"
  }
 },
 "nbformat": 4,
 "nbformat_minor": 2
}
